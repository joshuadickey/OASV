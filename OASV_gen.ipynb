{
  "nbformat": 4,
  "nbformat_minor": 0,
  "metadata": {
    "colab": {
      "provenance": []
    },
    "kernelspec": {
      "name": "python3",
      "display_name": "Python 3"
    },
    "language_info": {
      "name": "python"
    }
  },
  "cells": [
    {
      "cell_type": "markdown",
      "source": [
        "# Open American Standard Version\n",
        "\n",
        "The OASV is an English translation of the Bible with very high literal fidelity to the Textus Receptus and modern English phrasing. Importantly, the OASV is completely open source! The full text is free to use, free to print and free to modify. Better yet, not only is the finished text freely available, but so is the entire methodology for its generation. The code here can be used to completely replicate this text from scratch, starting with the original 1901 American Standard Version and ending with a beautiful modern translation. I hope you gain something from the code presented here, but I hope even more that you benifit from reading, sharing and building upon this modern translation of the free and open Bible."
      ],
      "metadata": {
        "id": "489AseL6UJIE"
      }
    },
    {
      "cell_type": "markdown",
      "source": [
        "## Getting Started\n",
        "\n",
        "First things first, we need to install and import various python libraries, establish our file structure, and set up our environment for generating, storing and validating the text of the OASV."
      ],
      "metadata": {
        "id": "i33yDo2cWfM5"
      }
    },
    {
      "cell_type": "code",
      "execution_count": null,
      "metadata": {
        "id": "KLM1jgX_8xRA"
      },
      "outputs": [],
      "source": [
        "%pip install --upgrade openai\n",
        "\n",
        "from openai import OpenAI\n",
        "import os\n",
        "import time\n",
        "import random\n",
        "from google.colab import drive\n",
        "import pandas as pd\n",
        "import matplotlib.pyplot as plt\n",
        "\n",
        "## Set the API key and model name\n",
        "OPENAI_API_KEY=\"insert-key-here\"\n",
        "MODEL=\"gpt-4o\"\n",
        "client = OpenAI(api_key=OPENAI_API_KEY)\n",
        "\n",
        "## mount google Drive and Create OASV folder\n",
        "drive.mount('/content/drive')\n",
        "OASV_path = f\"/content/drive/My Drive/OASV\"\n",
        "if not os.path.exists(OASV_path):\n",
        "  os.makedirs(OASV_path)\n",
        "\n",
        "## write the similarity score file\n",
        "similarity_scores_path = f\"{OASV_path}/similarity_scores\"\n",
        "if not os.path.exists(similarity_scores_path):\n",
        "  with open(similarity_scores_path, \"w\") as f:\n",
        "    f.write(f\"verse, ASV, NIV, NASB\\n\")"
      ]
    },
    {
      "cell_type": "markdown",
      "source": [
        "## Defining the ChatGPT models\n",
        "\n",
        "The heart of the OASV Translation methodology is the chatGPT-4o Large Language Model (LLM). This model is incredibly powerful, and we use it here to surgically remove the archaic language from the original 1901 ASV text. We also use the LLM for quality control, both to ensure that the generated text includes all the verses of the original and to ensure that the verses themselves are true to the original ASV and not plagarisms of other modern translations."
      ],
      "metadata": {
        "id": "JkJUSVIXXFvm"
      }
    },
    {
      "cell_type": "code",
      "source": [
        "def gen_OASV_Chapter(book, chapter):\n",
        "  # Use ChatGPT to build one chapter of the OASV Bible\n",
        "  system_role = '''Please modernize the ASV translation of the Bible according to the following strict guidelines:\n",
        "                 Retain the exact wording and sentence structures of the ASV as closely as possible—only modernizing archaic words and awkward phrasings.\n",
        "                    * Replace all archaic pronouns, tranistions and prepositions (thee, thou, ye, verily, hereof, hereof, unto, etc).\n",
        "                    * Replace all archaic nouns (householder, lading, bretheren, kindred, dayspring, salutation, ministration, tumult, variance, countenance, supplication, etc)\n",
        "                    * Replace all archaic verbs (begat, proceedeth, beesech, dwelt, shalt, platted, etc).\n",
        "                    * Modernize awkward word placement (then was Jesus led, will be given you, if therefore, afterward to be spoken, according as his work is, if it be, of a surety, who am old, etc).\n",
        "                    * Modernize archaic negative constructions (knew her not, answered nothing, fear them not, etc).\n",
        "                    * DO NOT alter any punctuation markings, quotation markings or capitalizations.\n",
        "                    * DO NOT alter the text based on other translations.\n",
        "                    * DO NOT introduce wording from other translations—only replace outdated language with modern equivalents while keeping the ASV's structure intact.\n",
        "                    * Output each verse on its own line, with each verse marked in the following format: [book.chapter.verse], e.g., [lk.1.1].\n",
        "                    * Output the first line of text with the Chapter name, e.g., Matthew 1.\n",
        "                 Please apply these rules strictly and consistently across all chapters!'''\n",
        "\n",
        "  print(f\"Processing {book} {chapter}... \", end=\"\")\n",
        "  completion = client.chat.completions.create(\n",
        "    model=MODEL,\n",
        "    messages=[\n",
        "      {\"role\": \"system\", \"content\": system_role}, # <-- This is the system message that provides context to the model\n",
        "      {\"role\": \"user\", \"content\": f\"{book} {chapter}\"}  # <-- This is the user message for which the model will generate a response\n",
        "    ]\n",
        "  )\n",
        "  chapter_text = completion.choices[0].message.content\n",
        "\n",
        "  # Save the output and return\n",
        "  file_path = f\"{OASV_path}/_{book}\"\n",
        "  file_name = f\"{book}_{chapter:03}\"\n",
        "  save_text_to_file(file_path, file_name, chapter_text)\n",
        "  print(f\"Saved file to {file_path}/{file_name}\")\n",
        "  return chapter_text\n"
      ],
      "metadata": {
        "id": "8fI5134dX46a"
      },
      "execution_count": 9,
      "outputs": []
    },
    {
      "cell_type": "code",
      "source": [
        "def get_Chapter_Length(book, chapter, retries=3):\n",
        "  # Use ChatGPT to check one verse of the OASV Bible\n",
        "  system_role = '''Return the number of verses in [Book] [Chapter] as an integer. DO NOT output any other text.\n",
        "                For example:\n",
        "                - Input: Matthew 6\n",
        "                - Output: 34'''\n",
        "\n",
        "  for attempt in range(retries):\n",
        "    try:\n",
        "      completion = client.chat.completions.create(\n",
        "        model=MODEL,\n",
        "        messages=[\n",
        "          {\"role\": \"system\", \"content\": system_role}, # <-- This is the system message that provides context to the model\n",
        "          {\"role\": \"user\", \"content\": f\"{book} {chapter}\"}  # <-- This is the user message for which the model will generate a response\n",
        "        ]\n",
        "      )\n",
        "      chapter_length = int(completion.choices[0].message.content)\n",
        "      return chapter_length\n",
        "    except Exception as e:\n",
        "        print(f\"Attempt {attempt + 1} failed: {e}\")\n",
        "        if attempt < retries - 1:\n",
        "            print(\"Retrying...\")\n",
        "            # Add a small delay before retrying\n",
        "            time.sleep(2) # Import time module if not already present\n",
        "        else:\n",
        "            print(\"Max retries exceeded. Skipping this chapter.\")\n",
        "            return None # Or handle the error as needed\n"
      ],
      "metadata": {
        "id": "w8CWb9rzZ7iK"
      },
      "execution_count": 10,
      "outputs": []
    },
    {
      "cell_type": "code",
      "source": [
        "def check_Verse_Quality(text):\n",
        "  # Use ChatGPT to check one verse of the OASV Bible\n",
        "  system_role = '''Compare the given Bible verse to the American Standard Version (ASV), New International Version (NIV), and New American Standard Bible (NASB).\n",
        "                 Assign a similarity score between 0 and 100 for each translation based on wording and structure.\n",
        "                 ** If the provided text does not match the referenced verse, return 0,0,0.\n",
        "                 ** Output only three integers separated by commas (e.g., 98,85,95).\n",
        "                 ** If '--v' is included at the end, enable verbose mode, please provide the text of ASV, NIV, and NASB for the verse and explain the rationale for each similarity score.'''\n",
        "\n",
        "  completion = client.chat.completions.create(\n",
        "    model=MODEL,\n",
        "    messages=[\n",
        "      {\"role\": \"system\", \"content\": system_role}, # <-- This is the system message that provides context to the model\n",
        "      {\"role\": \"user\", \"content\": text}  # <-- This is the user message for which the model will generate a response\n",
        "    ]\n",
        "  )\n",
        "\n",
        "  try:\n",
        "    verse_id = text.split()[0]\n",
        "    verse_score = completion.choices[0].message.content\n",
        "  except:\n",
        "    verse_id = \"unk\"\n",
        "    verse_score = \"0,0,0\"\n",
        "\n",
        "  print(f\"{verse_score} -- {text}\")\n",
        "  with open(similarity_scores_path, \"a\") as f:\n",
        "    f.write(f\"{verse_id},{verse_score}\\n\")\n",
        "  return\n"
      ],
      "metadata": {
        "id": "-aYWWRf5YAzj"
      },
      "execution_count": 11,
      "outputs": []
    },
    {
      "cell_type": "code",
      "source": [
        "def save_text_to_file(folder_path, file_name, text_content):\n",
        "    # Define the full file path\n",
        "    file_path = f\"{folder_path}/{file_name}\"\n",
        "\n",
        "    # Create the folder if it doesn't exist\n",
        "    if not os.path.exists(folder_path):\n",
        "        os.makedirs(folder_path)\n",
        "\n",
        "    # Save the text to the file\n",
        "    with open(file_path, \"w\") as f:\n",
        "        f.write(text_content)\n",
        "\n",
        "\n",
        "\n",
        "def check_Chapter_length(book, chapter, chapter_text):\n",
        "    chapter_verses = [verse for verse in chapter_text.split('\\n') if verse.startswith('[')]\n",
        "\n",
        "    # Check to ensure the whole Chapter was generated\n",
        "    chapter_length = get_Chapter_Length(book, chapter)\n",
        "    generated_length = len(chapter_verses)\n",
        "\n",
        "    if generated_length < chapter_length:\n",
        "      print(f\"Warning: {book} {chapter} has {generated_length}/{chapter_length} verses\")\n",
        "      additional_text = gen_OASV_Chapter(book, f\"{chapter}:{generated_length+1}\")\n",
        "      chapter_text += additional_text\n",
        "\n",
        "    return chapter_text\n",
        "\n",
        "\n",
        "\n",
        "\n",
        "def check_Chapter_Quality(chapter_text, num_verses_to_check):\n",
        "  \"\"\"\n",
        "  Splits a string by carriage returns, randomly selects a specified number of lines,\n",
        "  and processes each selected line using a placeholder function.\n",
        "\n",
        "  Args:\n",
        "    chapter_text: The input string to be split.\n",
        "    num_verses_to_check: The number of lines to randomly select.\n",
        "    placeholder_function: The function to apply to each selected line.\n",
        "  \"\"\"\n",
        "  verses = chapter_text.split('\\n')\n",
        "  verses = [verse for verse in verses if verse.startswith('[')]\n",
        "  selected_verses = random.sample(verses, num_verses_to_check)\n",
        "\n",
        "  for verse in selected_verses:\n",
        "    check_Verse_Quality(verse) # Call the check_OASV_Verse function with each selected verse\n",
        "\n",
        "\n"
      ],
      "metadata": {
        "id": "T_wRKMtz67L0"
      },
      "execution_count": 12,
      "outputs": []
    },
    {
      "cell_type": "code",
      "source": [
        "def gen_OASV_Book(book, chapters, retries = 3):\n",
        "  my_book_text = \"\"\n",
        "\n",
        "  for ch in range(118, chapters + 1):\n",
        "\n",
        "    for attempt in range(retries):\n",
        "      try:\n",
        "        chapter_text = gen_OASV_Chapter(book, ch)\n",
        "        chapter_text = check_Chapter_length(book, ch, chapter_text)\n",
        "        check_Chapter_Quality(chapter_text, 3)\n",
        "        break\n",
        "\n",
        "      except Exception as e:\n",
        "        print(f\"Attempt {attempt + 1} failed: {e}\")\n",
        "        if attempt < retries - 1:\n",
        "            print(\"Retrying...\")\n",
        "            # Add a small delay before retrying\n",
        "            time.sleep(2) # Import time module if not already present\n",
        "        else:\n",
        "            print(\"Max retries exceeded. Skipping this chapter.\")\n",
        "            return None # Or handle the error as needed\n",
        "\n",
        "    my_book_text += chapter_text + \"\\n\"\n",
        "\n",
        "\n",
        "  # Save the text to the file\n",
        "  file_name = f\"{OASV_path}/{book}\"\n",
        "  with open(file_name, \"w\") as f:\n",
        "    f.write(my_book_text)\n",
        "  print(f\"Saved file to {file_name}\")\n",
        "\n",
        "  return"
      ],
      "metadata": {
        "id": "UzbSgsknL3hE"
      },
      "execution_count": 13,
      "outputs": []
    },
    {
      "cell_type": "markdown",
      "source": [
        "## Generate the Text!"
      ],
      "metadata": {
        "id": "996xKPBfVmtj"
      }
    },
    {
      "cell_type": "code",
      "source": [
        "OT_books = [\n",
        "    (\"Genesis\", 50), (\"Exodus\", 40), (\"Leviticus\", 27), (\"Numbers\", 36),\n",
        "    (\"Deuteronomy\", 34), (\"Joshua\", 24), (\"Judges\", 21), (\"Ruth\", 4),\n",
        "    (\"1 Samuel\", 31), (\"2 Samuel\", 24), (\"1 Kings\", 22), (\"2 Kings\", 25),\n",
        "    (\"1 Chronicles\", 29), (\"2 Chronicles\", 36), (\"Ezra\", 10), (\"Nehemiah\", 13),\n",
        "    (\"Esther\", 10), (\"Job\", 42), (\"Psalms\", 150), (\"Proverbs\", 31),\n",
        "    (\"Ecclesiastes\", 12), (\"Song of Solomon\", 8), (\"Isaiah\", 66),\n",
        "    (\"Jeremiah\", 52), (\"Lamentations\", 5), (\"Ezekiel\", 48), (\"Daniel\", 12),\n",
        "    (\"Hosea\", 14), (\"Joel\", 3), (\"Amos\", 9), (\"Obadiah\", 1), (\"Jonah\", 4),\n",
        "    (\"Micah\", 7), (\"Nahum\", 3), (\"Habakkuk\", 3), (\"Zephaniah\", 3),\n",
        "    (\"Haggai\", 2), (\"Zechariah\", 14), (\"Malachi\", 4)\n",
        "]\n",
        "\n",
        "NT_books = [\n",
        "    (\"Matthew\", 28), (\"Mark\", 16), (\"Luke\", 24), (\"John\", 21), (\"Acts\", 28),\n",
        "    (\"Romans\", 16), (\"1 Corinthians\", 16), (\"2 Corinthians\", 13), (\"Galatians\", 6),\n",
        "    (\"Ephesians\", 6), (\"Philippians\", 4), (\"Colossians\", 4), (\"1 Thessalonians\", 5),\n",
        "    (\"2 Thessalonians\", 3), (\"1 Timothy\", 6), (\"2 Timothy\", 4), (\"Titus\", 3),\n",
        "    (\"Philemon\", 1), (\"Hebrews\", 13), (\"James\", 5), (\"1 Peter\", 5), (\"2 Peter\", 3),\n",
        "    (\"1 John\", 5), (\"2 John\", 1), (\"3 John\", 1), (\"Jude\", 1), (\"Revelation\", 22)\n",
        "]\n",
        "\n",
        "books = OT_books + NT_books\n",
        "\n",
        "for book, chapters in books:\n",
        "  print(f\"Processing {book}...\")\n",
        "  gen_OASV_Book(book, chapters)\n"
      ],
      "metadata": {
        "id": "9516p0OmH5FW"
      },
      "execution_count": null,
      "outputs": []
    },
    {
      "cell_type": "markdown",
      "source": [
        "## Quality Control Statistics\n",
        "\n",
        "Finally, we examine the overal similarity scores between the OASV text and the ASV, NIV and NASB. We should expect to see the highest similarity to the ASV."
      ],
      "metadata": {
        "id": "okWY6suOf6xX"
      }
    },
    {
      "cell_type": "code",
      "source": [
        "df = pd.read_csv(similarity_scores_path, na_filter=False)\n",
        "df.columns = df.columns.str.strip()\n",
        "df[df.columns[1]] = pd.to_numeric(df[df.columns[1]], errors='coerce')\n",
        "df[df.columns[2]] = pd.to_numeric(df[df.columns[2]], errors='coerce')\n",
        "df[df.columns[3]] = pd.to_numeric(df[df.columns[3]], errors='coerce')\n",
        "df = df.dropna(subset=[df.columns[3]])\n",
        "\n",
        "plt.figure(figsize=(10, 6))  # Adjust figure size if needed\n",
        "boxplot = df.boxplot(column=['ASV', 'NIV', 'NASB'])\n",
        "plt.ylim(70, 100)  # Set the y-axis limits from 0 to 100"
      ],
      "metadata": {
        "id": "-bPSgD6GBjvl",
        "colab": {
          "base_uri": "https://localhost:8080/",
          "height": 545
        },
        "outputId": "71400bd9-e11f-4925-8dc7-c6939d0bffe7"
      },
      "execution_count": null,
      "outputs": [
        {
          "output_type": "execute_result",
          "data": {
            "text/plain": [
              "(70.0, 100.0)"
            ]
          },
          "metadata": {},
          "execution_count": 28
        },
        {
          "output_type": "display_data",
          "data": {
            "text/plain": [
              "<Figure size 1000x600 with 1 Axes>"
            ],
            "image/png": "[encoded data removed]"
          },
          "metadata": {}
        }
      ]
    },
    {
      "cell_type": "code",
      "source": [
        "gen_OASV_Book('Psalms', 150)"
      ],
      "metadata": {
        "id": "562lllhRbhCn"
      },
      "execution_count": null,
      "outputs": []
    },
    {
      "cell_type": "code",
      "source": [
        "def combine_chapters(book):\n",
        "  book_text = \"\"\n",
        "  directory = f\"/content/drive/My Drive/OASV/_{book}\"\n",
        "  for filename in os.listdir(directory):\n",
        "    with open(f\"{directory}/{filename}\", \"r\") as f:\n",
        "      chapter_text = f.read()\n",
        "    book_text += f\"{chapter_text}\\n\"\n",
        "\n",
        "  # Save the text to the file\n",
        "  with open(f\"{OASV_path}/{book}\", \"w\") as f:\n",
        "    f.write(book_text)\n",
        "\n",
        "combine_chapters(\"Psalms\")"
      ],
      "metadata": {
        "id": "WRS_tRkQKdBt"
      },
      "execution_count": 17,
      "outputs": []
    },
    {
      "cell_type": "code",
      "source": [
        "directory = \"/content/drive/My Drive/OASV/_Psalms\"\n",
        "for filename in os.listdir(directory):\n",
        "  _, num = filename.split(\"_\")\n",
        "  print(num)\n",
        "  if len(num) != 3:\n",
        "    new_filename = f\"Psalms_0{num}\"\n",
        "    os.rename(os.path.join(directory, filename), os.path.join(directory, new_filename))"
      ],
      "metadata": {
        "id": "7GTBRktlH1p4"
      },
      "execution_count": null,
      "outputs": []
    }
  ]
}