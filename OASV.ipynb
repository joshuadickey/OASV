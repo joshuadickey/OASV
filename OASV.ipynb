{
  "nbformat": 4,
  "nbformat_minor": 0,
  "metadata": {
    "colab": {
      "provenance": []
    },
    "kernelspec": {
      "name": "python3",
      "display_name": "Python 3"
    },
    "language_info": {
      "name": "python"
    }
  },
  "cells": [
    {
      "cell_type": "markdown",
      "source": [
        "# Open American Standard Version (OASV)\n",
        "\n",
        "**The Open American Standard Version (OASV) is an open-source update to the venerable 1901 American Standard Version (ASV).**\n",
        "\n",
        "<br>\n",
        "\n",
        "The 1901 ASV is a truly classic Bible, long considered to be one of the most accurate translations in the English language. It is currently in the Public Domain, which means it is free to quote, reprint, copy and use for any purpose. Unfortunately, the language of the ASV is archaic and outdated, making it nearly inaccessible to the modern reader.\n",
        "\n",
        "The OASV is nearly identical to the ASV in every way, including word order, punctuation and capitalization, but with modernized language. This ensures that the OASV retains full literal fidelity to the ancient scriptures without the ancient verbage... bringing this classic Bible to a new generation.\n",
        "\n",
        "Importantly, the OASV is completely open-source. Not only is the full text is free to use, free to copy and free to print, but the entire methodology for producing the text can be duplicated by anyone, with just a few lines of code: https://github.com/joshuadickey/OASV.\n",
        "\n",
        "<br>\n",
        "\n",
        "I pray that you benefit from reading, sharing and building upon this modern translation of the free and open Bible,\n",
        "\n",
        "Dr. Joshua Thaxter Dickey"
      ],
      "metadata": {
        "id": "489AseL6UJIE"
      }
    },
    {
      "cell_type": "markdown",
      "source": [
        "## Getting Started\n",
        "\n",
        "First things first, we need to install and import various python libraries, establish our file structure, and set up our environment for generating, storing and validating the text of the OASV."
      ],
      "metadata": {
        "id": "i33yDo2cWfM5"
      }
    },
    {
      "cell_type": "code",
      "execution_count": null,
      "metadata": {
        "id": "KLM1jgX_8xRA"
      },
      "outputs": [],
      "source": [
        "%pip install --upgrade openai\n",
        "!pip install ebooklib\n",
        "!apt-get install calibre\n",
        "\n",
        "import subprocess\n",
        "from openai import OpenAI\n",
        "import os\n",
        "import re\n",
        "import time\n",
        "import random\n",
        "from google.colab import drive\n",
        "from google.colab import files\n",
        "import pandas as pd\n",
        "import matplotlib.pyplot as plt\n",
        "from ebooklib import epub\n",
        "\n",
        "## Set the API key and model name\n",
        "OPENAI_API_KEY=\"INSERT_KEY_HERE\"\n",
        "MODEL=\"gpt-4o\"\n",
        "client = OpenAI(api_key=OPENAI_API_KEY)\n",
        "\n",
        "## mount google Drive and Create OASV folder\n",
        "drive.mount('/content/drive')\n",
        "OASV_path = f\"/content/drive/My Drive/OASV_JHV\"\n",
        "if not os.path.exists(OASV_path):\n",
        "  os.makedirs(OASV_path)\n",
        "\n",
        "## write the similarity score file\n",
        "similarity_scores_path = f\"{OASV_path}/similarity_scores\"\n",
        "if not os.path.exists(similarity_scores_path):\n",
        "  with open(similarity_scores_path, \"w\") as f:\n",
        "    f.write(f\"verse, ASV, NIV, NASB\\n\")"
      ]
    },
    {
      "cell_type": "markdown",
      "source": [
        "## Defining the ChatGPT models\n",
        "\n",
        "The heart of the OASV generation methodology is the chatGPT-4o Large Language Model (LLM). This model is incredibly powerful, and we use it here to surgically remove the archaic language from the original 1901 ASV text. We also use the LLM for quality control, both to ensure that the generated text includes all the verses of the original and to ensure that the verses themselves are true to the original ASV and not plagarisms of other modern translations.\n",
        "\n",
        "### gen_OASV_Chapter:\n",
        "\n",
        "This code uses the power of Artificial Intelligence to surgically remove archaic language while retaining all other features of the ASV. Please note that the AI models used in this code are incredibly powerful, and the code can be adapted to build a biblical text with additional parameters. For example, by simply changing the text string stored in \"system_role,\" the code can be used to blend two translations, simplify the language for young children, or even typset the text in paragraph style. I encourage you to explore and expand on the code presented here!"
      ],
      "metadata": {
        "id": "JkJUSVIXXFvm"
      }
    },
    {
      "cell_type": "code",
      "source": [
        "def gen_OASV_Chapter(book, abb, chapter):\n",
        "  # Use ChatGPT to build one chapter of the OASV Bible\n",
        "  system_role = f'''Please modernize the ASV translation of the Bible book {book} according to the following strict guidelines:\n",
        "                 Replace all archaic prepositions, adverbs, verbs, verb endings, and nouns in the provided ASV Bible text with their modern English equivalents, preserving the original word order and sentence structure as closely as possible.\n",
        "                 Retain the exact wording and sentence structures of the ASV as closely as possible—only modernizing archaic words and awkward phrasings.\n",
        "                    * Replace all archaic pronouns, tranistions and prepositions (thee, thou, ye, verily, hereof, thereof, thereunto, unto, etc).\n",
        "                    * Replace all archaic nouns (householder, lading, bretheren, kindred, dayspring, salutation, ministration, tumult, variance, countenance, supplication, etc)\n",
        "                    * Replace all archaic verbs (begat, proceedeth, beesech, dwelt, shalt, platted, etc).\n",
        "                    * Modernize awkward word placement (then was Jesus led, will be given you, if therefore, afterward to be spoken, according as his work is, if it be, of a surety, who am old, etc).\n",
        "                    * Modernize archaic negative constructions (knew her not, answered nothing, fear them not, etc).\n",
        "                    * DO NOT alter any punctuation markings or capitalizations.\n",
        "                    * DO NOT add ANY quotation markings. The ASV.does not use quotes, so please be true to the ASV and don't add any quotes.\n",
        "                    * DO NOT replace the name 'Jehovah' in the ASV with 'LORD' or 'Yahweh' or any other name for God... stay true to the ASV translation.\n",
        "                    * DO NOT alter the text based on other translations or introduce wording from other translations—only replace outdated language with modern equivalents while keeping the ASV's structure intact.\n",
        "                    * Output each verse on its own line, with each verse marked in the following format: [book.chapter.verse], e.g., [{abb}.1.1].\n",
        "                    * Output the first line of text exactly as follows: book chapter, e.g., {book} 1.\n",
        "                 Please apply these rules strictly and consistently across all chapters!'''\n",
        "\n",
        "  print(f\"Processing {book} {chapter}... \", end=\"\")\n",
        "  completion = client.chat.completions.create(\n",
        "    model=MODEL,\n",
        "    messages=[\n",
        "      {\"role\": \"system\", \"content\": system_role}, # <-- This is the system message that provides context to the model\n",
        "      {\"role\": \"user\", \"content\": f\"{book} {chapter}\"}  # <-- This is the user message for which the model will generate a response\n",
        "    ]\n",
        "  )\n",
        "  chapter_text = completion.choices[0].message.content\n",
        "\n",
        "  # Save the output and return\n",
        "  file_path = f\"{OASV_path}/_{book}\"\n",
        "  file_name = f\"{book}_{chapter:03}\"\n",
        "  save_text_to_file(file_path, file_name, chapter_text)\n",
        "  print(f\"Saved file to {file_path}/{file_name}\")\n",
        "  return chapter_text"
      ],
      "metadata": {
        "id": "8fI5134dX46a"
      },
      "execution_count": 2,
      "outputs": []
    },
    {
      "cell_type": "markdown",
      "source": [
        "### get_Chapter_Length:\n",
        "\n",
        "This code is nearly a profligate use of AI resources, as it uses AI to determine the appropriate length of each chapter. This could have easily been accomplished using a lookup table, however I wanted to showcase the power of AI and I was honestly also just being lazy :)."
      ],
      "metadata": {
        "id": "RIzIWfVp_AeZ"
      }
    },
    {
      "cell_type": "code",
      "source": [
        "def get_Chapter_Length(book, chapter, retries=3):\n",
        "  # Use ChatGPT to check one verse of the OASV Bible\n",
        "  system_role = '''Return the number of verses in [Book] [Chapter] as an integer. DO NOT output any other text.\n",
        "                For example:\n",
        "                - Input: Matthew 6\n",
        "                - Output: 34'''\n",
        "\n",
        "  for attempt in range(retries):\n",
        "    try:\n",
        "      completion = client.chat.completions.create(\n",
        "        model=MODEL,\n",
        "        messages=[\n",
        "          {\"role\": \"system\", \"content\": system_role}, # <-- This is the system message that provides context to the model\n",
        "          {\"role\": \"user\", \"content\": f\"{book} {chapter}\"}  # <-- This is the user message for which the model will generate a response\n",
        "        ]\n",
        "      )\n",
        "      chapter_length = int(completion.choices[0].message.content)\n",
        "      return chapter_length\n",
        "    except Exception as e:\n",
        "        print(f\"Attempt {attempt + 1} failed: {e}\")\n",
        "        if attempt < retries - 1:\n",
        "            print(\"Retrying...\")\n",
        "            # Add a small delay before retrying\n",
        "            time.sleep(2) # Import time module if not already present\n",
        "        else:\n",
        "            print(\"Max retries exceeded. Skipping this chapter.\")\n",
        "            raise Exception(f\"Max retries exceeded. Skipping {book} {chapter}.\")\n",
        "            return None # Or handle the error as needed"
      ],
      "metadata": {
        "id": "w8CWb9rzZ7iK"
      },
      "execution_count": 3,
      "outputs": []
    },
    {
      "cell_type": "markdown",
      "source": [
        "### check_Verse_Quality\n",
        "\n",
        "This code is the main agonist model that is checking to ensure that the generated text is not plagarizing a copyrighted work, like the NASB or NIV. This is important, we we want to ensure that the generated text is completely based on the ASV, which is in the Public Domain."
      ],
      "metadata": {
        "id": "fNACdgby_jR8"
      }
    },
    {
      "cell_type": "code",
      "source": [
        "def check_Verse_Quality(text, verbose=False):\n",
        "  # Use ChatGPT to check one verse of the OASV Bible\n",
        "\n",
        "  system_role = '''Compare the given Bible verse to the American Standard Version (ASV), New International Version (NIV), and New American Standard Bible (NASB).\n",
        "                 Assign a similarity score between 0 and 100 for each translation based on wording and structure.\n",
        "                 ** Output three integers separated by commas (e.g., 98,85,95).\n",
        "                 ** The first integer represents the similarity score for the ASV.\n",
        "                 ** The second integer represents the similarity score for the NIV.\n",
        "                 ** The third integer represents the similarity score for the NASB.\n",
        "                 ** If the provided text does not match the referenced verse, return 0,0,0.\n",
        "                 ** If the provided text matches perfectly, return 100,100,100.\n",
        "                 '''\n",
        "\n",
        "  if verbose:\n",
        "    system_role += \"** Please also provide the text of ASV, NIV, and NASB for the verse, and explain the rationale for each similarity score.\"\n",
        "  else:\n",
        "    system_role += \"** DO NOT add any extra text, only output the three integers separated by commas!!\"\n",
        "  completion = client.chat.completions.create(\n",
        "    model=MODEL,\n",
        "    messages=[\n",
        "      {\"role\": \"system\", \"content\": system_role}, # <-- This is the system message that provides context to the model\n",
        "      {\"role\": \"user\", \"content\": text}  # <-- This is the user message for which the model will generate a response\n",
        "    ]\n",
        "  )\n",
        "\n",
        "  try:\n",
        "    verse_id = text.split()[0]\n",
        "    verse_score = completion.choices[0].message.content\n",
        "  except:\n",
        "    verse_id = \"unk\"\n",
        "    verse_score = \"0,0,0\"\n",
        "\n",
        "  print(f\"{verse_score} -- {text}\")\n",
        "  with open(similarity_scores_path, \"a\") as f:\n",
        "    f.write(f\"{verse_id},{verse_score}\\n\")\n",
        "  return verse_score"
      ],
      "metadata": {
        "id": "-aYWWRf5YAzj"
      },
      "execution_count": 4,
      "outputs": []
    },
    {
      "cell_type": "markdown",
      "source": [
        "### Helper Functions"
      ],
      "metadata": {
        "id": "KqbjXIV8AEIZ"
      }
    },
    {
      "cell_type": "code",
      "source": [
        "def save_text_to_file(folder_path, file_name, text_content):\n",
        "    # Define the full file path\n",
        "    file_path = f\"{folder_path}/{file_name}\"\n",
        "\n",
        "    # Create the folder if it doesn't exist\n",
        "    if not os.path.exists(folder_path):\n",
        "        os.makedirs(folder_path)\n",
        "\n",
        "    # Save the text to the file\n",
        "    with open(file_path, \"w\") as f:\n",
        "        f.write(text_content)\n",
        "\n",
        "\n",
        "\n",
        "def check_Chapter_length(book, abb, chapter, chapter_text):\n",
        "    chapter_verses = [verse for verse in chapter_text.split('\\n') if verse.startswith(f'[{abb}.')]\n",
        "\n",
        "    # Check to ensure the whole Chapter was generated\n",
        "    chapter_length = get_Chapter_Length(book, chapter)\n",
        "    generated_length = len(chapter_verses)\n",
        "\n",
        "    if generated_length < chapter_length:\n",
        "      print(f\"Warning: {book} {chapter} has {generated_length}/{chapter_length} verses\")\n",
        "      additional_text = gen_OASV_Chapter(book, f\"{chapter}:{generated_length+1}\")\n",
        "      chapter_text += additional_text\n",
        "\n",
        "    return chapter_text\n",
        "\n",
        "def combine_chapters(book):\n",
        "  book_text = \"\"\n",
        "  directory = f\"{OASV_path}/_{book}\"\n",
        "  for filename in os.listdir(directory):\n",
        "    with open(f\"{directory}/{filename}\", \"r\") as f:\n",
        "      chapter_text = f.read()\n",
        "    book_text += f\"{chapter_text}\\n\"\n",
        "\n",
        "  # Save the text to the file\n",
        "  with open(f\"{OASV_path}/{book}\", \"w\") as f:\n",
        "    f.write(book_text)\n",
        "\n",
        "\n",
        "def check_Chapter_Quality(chapter_text, num_verses_to_check):\n",
        "  \"\"\"\n",
        "  Splits a string by carriage returns, randomly selects a specified number of lines,\n",
        "  and processes each selected line using a placeholder function.\n",
        "\n",
        "  Args:\n",
        "    chapter_text: The input string to be split.\n",
        "    num_verses_to_check: The number of lines to randomly select.\n",
        "    placeholder_function: The function to apply to each selected line.\n",
        "  \"\"\"\n",
        "  verses = chapter_text.split('\\n')\n",
        "  verses = [verse for verse in verses if verse.startswith('[')]\n",
        "\n",
        "  if len(verses) < num_verses_to_check:\n",
        "    print(f\"Warning: Not enough verses to sample ({len(verses)} available, {num_verses_to_check} requested). Sampling all verses.\")\n",
        "    selected_verses = verses\n",
        "  else:\n",
        "    selected_verses = random.sample(verses, num_verses_to_check)\n",
        "\n",
        "  for verse in selected_verses:\n",
        "    quality = check_Verse_Quality(verse) # Call the check_OASV_Verse function with each selected verse\n",
        "    if quality == \"0,0,0\":  # Check for the specific output\n",
        "      raise Exception(f\"Verse quality check failed for verse: {verse}\")\n",
        "\n",
        "\n",
        "def gen_OASV_Book(book, abb, chapters, retries = 7, st_ch=1):\n",
        "  my_book_text = \"\"\n",
        "\n",
        "  for ch in range(st_ch, chapters + 1):\n",
        "\n",
        "    for attempt in range(retries):\n",
        "      try:\n",
        "        chapter_text = gen_OASV_Chapter(book, abb, ch)\n",
        "        chapter_text = check_Chapter_length(book, abb, ch, chapter_text)\n",
        "        check_Chapter_Quality(chapter_text, 5)\n",
        "        break\n",
        "\n",
        "      except Exception as e:\n",
        "        print(f\"Attempt {attempt + 1} failed: {e}\")\n",
        "        if attempt < retries - 1:\n",
        "            print(\"Retrying...\")\n",
        "            # Add a small delay before retrying\n",
        "            time.sleep(2) # Import time module if not already present\n",
        "        else:\n",
        "            print(\"Max retries exceeded. Skipping this chapter.\")\n",
        "            return None # Or handle the error as needed\n",
        "\n",
        "    my_book_text += chapter_text + \"\\n\"\n",
        "\n",
        "\n",
        "  # Save the text to the file\n",
        "  file_name = f\"{OASV_path}/{book}\"\n",
        "  with open(file_name, \"w\") as f:\n",
        "    f.write(my_book_text)\n",
        "  print(f\"Saved file to {file_name}\")\n",
        "\n",
        "  return"
      ],
      "metadata": {
        "id": "T_wRKMtz67L0"
      },
      "execution_count": 5,
      "outputs": []
    },
    {
      "cell_type": "markdown",
      "source": [
        "## Generate the Text!"
      ],
      "metadata": {
        "id": "996xKPBfVmtj"
      }
    },
    {
      "cell_type": "code",
      "source": [
        "ot_books = [(\"Genesis\", \"GEN\", 50), (\"Exodus\", \"EXO\", 40), (\"Leviticus\", \"LEV\", 27),\n",
        "          (\"Numbers\", \"NUM\", 36), (\"Deuteronomy\", \"DEU\", 34), (\"Joshua\", \"JOS\", 24),\n",
        "          (\"Judges\", \"JDG\", 21), (\"Ruth\", \"RUT\", 4), (\"1 Samuel\", \"1SA\", 31), (\"2 Samuel\", \"2SA\", 24),\n",
        "          (\"1 Kings\", \"1KI\", 22), (\"2 Kings\", \"2KI\", 25), (\"1 Chronicles\", \"1CH\", 29),\n",
        "          (\"2 Chronicles\", \"2CH\", 36), (\"Ezra\", \"EZR\", 10), (\"Nehemiah\", \"NEH\", 13),\n",
        "          (\"Esther\", \"EST\", 10), (\"Job\", \"JOB\", 42), (\"Psalms\", \"PSA\", 150), (\"Proverbs\", \"PRO\", 31),\n",
        "          (\"Ecclesiastes\", \"ECC\", 12), (\"Song of Solomon\", \"SOS\", 8), (\"Isaiah\", \"ISA\", 66),\n",
        "          (\"Jeremiah\", \"JER\", 52), (\"Lamentations\", \"LAM\", 5), (\"Ezekiel\", \"EZE\", 48),\n",
        "          (\"Daniel\", \"DAN\", 12), (\"Hosea\", \"HOS\", 14), (\"Joel\", \"JOE\", 3), (\"Amos\", \"AMO\", 9),\n",
        "          (\"Obadiah\", \"OBA\", 1), (\"Jonah\", \"JON\", 4), (\"Micah\", \"MIC\", 7), (\"Nahum\", \"NAH\", 3),\n",
        "          (\"Habakkuk\", \"HAB\", 3), (\"Zephaniah\", \"ZEP\", 3), (\"Haggai\", \"HAG\", 2),\n",
        "          (\"Zechariah\", \"ZEC\", 14), (\"Malachi\", \"MAL\", 4)]\n",
        "\n",
        "nt_books = [(\"Matthew\", \"MAT\", 28), (\"Mark\", \"MAR\", 16), (\"Luke\", \"LUK\", 24), (\"John\", \"JOH\", 21),\n",
        "          (\"Acts\", \"ACT\", 28), (\"Romans\", \"ROM\", 16), (\"1 Corinthians\", \"1CO\", 16),\n",
        "          (\"2 Corinthians\", \"2CO\", 13), (\"Galatians\", \"GAL\", 6), (\"Ephesians\", \"EPH\", 6),\n",
        "          (\"Philippians\", \"PHP\", 4), (\"Colossians\", \"COL\", 4), (\"1 Thessalonians\", \"1TH\", 5),\n",
        "          (\"2 Thessalonians\", \"2TH\", 3), (\"1 Timothy\", \"1TI\", 6), (\"2 Timothy\", \"2TI\", 4),\n",
        "          (\"Titus\", \"TIT\", 3), (\"Philemon\", \"PHM\", 1), (\"Hebrews\", \"HEB\", 13), (\"James\", \"JAM\", 5),\n",
        "          (\"1 Peter\", \"1PE\", 5), (\"2 Peter\", \"2PE\", 3), (\"1 John\", \"1JO\", 5), (\"2 John\", \"2JO\", 1),\n",
        "          (\"3 John\", \"3JO\", 1), (\"Jude\", \"JDE\", 1), (\"Revelation\", \"REV\", 22)]"
      ],
      "metadata": {
        "id": "GnXSaPF6412G"
      },
      "execution_count": 6,
      "outputs": []
    },
    {
      "cell_type": "code",
      "source": [
        "books = ot_books + nt_books\n",
        "\n",
        "for book, abb, num_ch in books:\n",
        "  print(f\"Processing {book}...\")\n",
        "  gen_OASV_Book(book, abb, num_ch)"
      ],
      "metadata": {
        "id": "9516p0OmH5FW"
      },
      "execution_count": null,
      "outputs": []
    },
    {
      "cell_type": "markdown",
      "source": [
        "## Quality Control Statistics\n",
        "\n",
        "Finally, we examine the overal similarity scores between the OASV text and the ASV, NIV and NASB. We should expect to see the highest similarity to the ASV."
      ],
      "metadata": {
        "id": "okWY6suOf6xX"
      }
    },
    {
      "cell_type": "code",
      "source": [
        "df = pd.read_csv(similarity_scores_path, na_filter=False, on_bad_lines='skip', engine=\"python\")\n",
        "df.columns = df.columns.str.strip()\n",
        "df[df.columns[1]] = pd.to_numeric(df[df.columns[1]], errors='coerce')\n",
        "df[df.columns[2]] = pd.to_numeric(df[df.columns[2]], errors='coerce')\n",
        "df[df.columns[3]] = pd.to_numeric(df[df.columns[3]], errors='coerce')\n",
        "df = df.dropna(subset=[df.columns[3]])\n",
        "\n",
        "plt.figure(figsize=(10, 6))  # Adjust figure size if needed\n",
        "boxplot = df.boxplot(column=['ASV', 'NIV', 'NASB'])\n",
        "plt.ylim(70, 100)  # Set the y-axis limits from 0 to 100"
      ],
      "metadata": {
        "id": "-bPSgD6GBjvl",
        "colab": {
          "base_uri": "https://localhost:8080/",
          "height": 545
        },
        "outputId": "dc65988e-f24d-4fe7-cd3f-b5ba1d207b2a"
      },
      "execution_count": 20,
      "outputs": [
        {
          "output_type": "execute_result",
          "data": {
            "text/plain": [
              "(70.0, 100.0)"
            ]
          },
          "metadata": {},
          "execution_count": 20
        },
        {
          "output_type": "display_data",
          "data": {
            "text/plain": [
              "<Figure size 1000x600 with 1 Axes>"
            ],
            "image/png": "[encoded data removed]"
          },
          "metadata": {}
        }
      ]
    },
    {
      "cell_type": "markdown",
      "source": [
        "## Combine and Format the Final Text\n",
        "\n",
        "The code below will take all the generated books and combine them into a finished whole using html. This can then be converted into any major ebook format using calibre."
      ],
      "metadata": {
        "id": "O475kEqFgDOL"
      }
    },
    {
      "cell_type": "code",
      "source": [
        "def book_to_html(book, abb, num_chapters):\n",
        "\n",
        "  with open(f\"{OASV_path}/{book}\", \"r\") as f:\n",
        "    book_text = f.read()\n",
        "\n",
        "  # Regular expression to find chapters (assuming chapters start with \"Chapter [number]\")\n",
        "  # Remove the first empty string resulting from the split\n",
        "  all_chapters = re.split(rf\"\\n{book} \\d+\", book_text)\n",
        "  if len(all_chapters) != num_chapters:\n",
        "    print(f\"Warning: {book} has {len(all_chapters)} chapters, but should have {num_chapters} chapters.\")\n",
        "\n",
        "  # Create the HTML content\n",
        "  html_header = f'<h1 id=\"{book.lower().replace(\" \", \"-\")}\">{book}</h1><ul>\\n'\n",
        "  html_body = \"\"\n",
        "\n",
        "  chapter_number = 1\n",
        "  for chapter_text in all_chapters:\n",
        "      chapter_title = f\"{book} {chapter_number}\"  # Basic chapter title\n",
        "      html_header += f'<li><a href=\"#{chapter_title.lower().replace(\" \", \"-\")}\">{chapter_title}</a></li>\\n'\n",
        "\n",
        "      html_body += f\"\"\"<h3 id=\"{chapter_title.lower().replace(\" \", \"-\")}\">{chapter_title}</h3>\\n\"\"\"\n",
        "      verses = [verse for verse in chapter_text.strip().split(\"\\n\") if verse.startswith(f'[{abb}')]\n",
        "      for verse in verses:\n",
        "        html_body += f\"\"\"<p>{verse.strip()}</p>\\n\"\"\"  # Add chapter text\n",
        "\n",
        "      chapter_number += 1\n",
        "\n",
        "  html_header += \"</ul>\\n\"\n",
        "\n",
        "  return html_header + html_body"
      ],
      "metadata": {
        "id": "7BJvNPr-f5JP"
      },
      "execution_count": 10,
      "outputs": []
    },
    {
      "cell_type": "code",
      "source": [
        "html_header = \"\"\"<!DOCTYPE html>\\n<html lang=\"en\">\\n<head>\\n<meta charset=\"UTF-8\">\\n\n",
        "    <meta name=\"viewport\" content=\"width=device-width, initial-scale=1.0\">\\n\n",
        "    <title>Bible</title>\\n</head>\n",
        "    <h2>Open American Standard Version (OASV)</h2>\n",
        "    <a href=\"#forward\">Forward</a>\\n\n",
        "    <p>The Open American Standard Version (OASV) is an open-source update to the venerable 1901 American Standard Version (ASV).</p>\\n\n",
        "    <p>The 1901 ASV is a truly classic Bible, long considered to be one of the most accurate translations in the English language. It is currently in the Public Domain, which means it is free to quote, reprint, copy and use for any purpose. Unfortunately, the language of the ASV is archaic and outdated, making it nearly inaccessible to the modern reader.</p>\\n\n",
        "    <p>The OASV is nearly identical to the ASV in every way, including word order, punctuation and capitalization, but with modernized language. This ensures that the OASV retains full literal fidelity to the ancient scriptures without the ancient verbiage... bringing this classic Bible to a new generation.</p>\\n\n",
        "    <p>Importantly, the OASV is completely open-source. Not only is the full text is free to use, free to copy and free to print, but the entire methodology for producing the text can be duplicated by anyone, with just a few lines of code: https://github.com/joshuadickey/OASV.</p>\\n\n",
        "    <p>I pray that you benefit from reading, sharing and building upon this modern translation of the free and open Bible,</p>\\n\n",
        "    <p>Dr. Joshua Thaxter Dickey</p>\"\"\"\n",
        "\n",
        "html_header += \"<h2>Old Testament</h2>\\n<ul>\\n\"\n",
        "html_body = \"<body>\"\n",
        "\n",
        "for book, abb, chapters in ot_books:\n",
        "  print(f\"Processing {book}...\")\n",
        "  html_header += f'<li><a href=\"#{book.lower().replace(\" \", \"-\")}\">{book}</a></li>\\n'\n",
        "\n",
        "  try:\n",
        "    book_html = book_to_html(book, abb, chapters)\n",
        "  except:\n",
        "    print(f\"Error reading {book}\")\n",
        "  html_body += book_html\n",
        "\n",
        "html_header += \"</ul>\\n<h2>New Testament</h2>\\n<ul>\\n\"\n",
        "for book, abb, chapters in nt_books:\n",
        "  print(f\"Processing {book}...\")\n",
        "  html_header += f'<li><a href=\"#{book.lower().replace(\" \", \"-\")}\">{book}</a></li>\\n'\n",
        "\n",
        "  try:\n",
        "    book_html = book_to_html(book, abb, chapters)\n",
        "  except:\n",
        "    print(f\"Error reading {book}\")\n",
        "  html_body += book_html\n",
        "html_header += \"</ul>\\n\"\n",
        "\n",
        "html_body += \"</body>\\n</html>\"\n",
        "\n",
        "html_output = html_header + html_body\n",
        "\n",
        "# Save the HTML to a file\n",
        "html_path = f\"{OASV_path}/OASV.html\"\n",
        "with open(html_path, \"w\") as f:\n",
        "    f.write(html_output)\n",
        "\n",
        "print(f\"Saved the full text to {html_path}...\")\n",
        "\n",
        "# Download the generated HTML file (optional)\n",
        "files.download(html_path)"
      ],
      "metadata": {
        "id": "9v0p7VNpf3od"
      },
      "execution_count": null,
      "outputs": []
    },
    {
      "cell_type": "code",
      "source": [
        "# Define paths\n",
        "html_path = f\"{OASV_path}/OASV.html\"  # Replace with your HTML file path\n",
        "cover_path = f\"{OASV_path}/cover.jpg\"  # Replace with your cover image path (optional)\n",
        "ebook_path = f\"{OASV_path}/OASV.epub\"\n",
        "\n",
        "# Convert HTML to EPUB using Calibre's ebook-convert\n",
        "!ebook-convert \"{html_path}\" \"{ebook_path}\" \\\n",
        "  --output-profile=kindle \\\n",
        "  --max-toc-links=66 \\\n",
        "  --cover=\"{cover_path}\"  # Add this line if you have a cover image\n",
        "\n",
        "\n",
        "# Download the generated EPUB file (optional)\n",
        "files.download(ebook_path)"
      ],
      "metadata": {
        "id": "QysylW7IhWTT"
      },
      "execution_count": null,
      "outputs": []
    },
    {
      "cell_type": "markdown",
      "source": [
        "### Troubleshooting\n",
        "\n",
        "This code can be used to troubleshoot verses with poor performance."
      ],
      "metadata": {
        "id": "wrUqojPGAPYz"
      }
    },
    {
      "cell_type": "code",
      "source": [
        "# keep rows with quality values of 0\n",
        "df = df[df[df.columns[1]] == 0]\n",
        "df = df.sort_values(by=df.columns[0])\n",
        "df"
      ],
      "metadata": {
        "id": "TI4qd7SAwSBP"
      },
      "execution_count": null,
      "outputs": []
    },
    {
      "cell_type": "markdown",
      "source": [
        "This code can be used to generate just a few missing chapters from a single book. Useful if you had errors and did not want to start a book from the beginning."
      ],
      "metadata": {
        "id": "L3vikexDARYm"
      }
    },
    {
      "cell_type": "code",
      "source": [
        "book = \"Psalms\"\n",
        "abb = \"PSA\"\n",
        "num_ch = 150\n",
        "\n",
        "print(f\"Processing {book}...\")\n",
        "gen_OASV_Book(book, abb, num_ch, 117)\n",
        "\n",
        "combine_chapters(\"Psalms\")"
      ],
      "metadata": {
        "id": "wLlNtMnm5rRW"
      },
      "execution_count": null,
      "outputs": []
    }
  ]
}